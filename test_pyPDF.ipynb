{
  "nbformat": 4,
  "nbformat_minor": 0,
  "metadata": {
    "colab": {
      "provenance": [],
      "authorship_tag": "ABX9TyMhIm8X164CUIiwEUk7DIEJ",
      "include_colab_link": true
    },
    "kernelspec": {
      "name": "python3",
      "display_name": "Python 3"
    },
    "language_info": {
      "name": "python"
    }
  },
  "cells": [
    {
      "cell_type": "markdown",
      "metadata": {
        "id": "view-in-github",
        "colab_type": "text"
      },
      "source": [
        "<a href=\"https://colab.research.google.com/github/ishanyash/OpenAI_PDF_reader/blob/main/test_pyPDF.ipynb\" target=\"_parent\"><img src=\"https://colab.research.google.com/assets/colab-badge.svg\" alt=\"Open In Colab\"/></a>"
      ]
    },
    {
      "cell_type": "code",
      "source": [
        "!pip install PyPDF2 #installing the libraries\n",
        "!pip install langdetect \n",
        "!pip install nltk \n",
        "!pip install openai "
      ],
      "metadata": {
        "id": "GFO8PF-ERcFG"
      },
      "execution_count": null,
      "outputs": []
    },
    {
      "cell_type": "code",
      "source": [
        "import nltk\n",
        "nltk.download('punkt')"
      ],
      "metadata": {
        "id": "wgaVhE7ygGu3"
      },
      "execution_count": null,
      "outputs": []
    },
    {
      "cell_type": "code",
      "execution_count": null,
      "metadata": {
        "id": "hrunEH8lQKTk"
      },
      "outputs": [],
      "source": [
        "import PyPDF2\n",
        "import openai\n",
        "import os\n",
        "import re\n",
        "import nltk\n",
        "from langdetect import detect\n",
        "from nltk.tokenize import word_tokenize"
      ]
    },
    {
      "cell_type": "code",
      "source": [
        "from google.colab import drive\n",
        "drive.mount('/content/gdrive') #mounting Google drive"
      ],
      "metadata": {
        "id": "yaXqCK7NQmRu"
      },
      "execution_count": null,
      "outputs": []
    },
    {
      "cell_type": "code",
      "source": [
        "%cd gdrive/My Drive/Test_files/Example_Documents #accessing the command directory"
      ],
      "metadata": {
        "colab": {
          "base_uri": "https://localhost:8080/"
        },
        "id": "rW1XN6qgQoqu",
        "outputId": "52216fe2-4fe4-4750-afce-6cba3c2dd92a"
      },
      "execution_count": null,
      "outputs": [
        {
          "output_type": "stream",
          "name": "stdout",
          "text": [
            "/content/gdrive/My Drive/Test_files/Example_Documents\n"
          ]
        }
      ]
    },
    {
      "cell_type": "code",
      "source": [
        "!ls #content of the directory"
      ],
      "metadata": {
        "id": "JpCRRYJhR2Q3"
      },
      "execution_count": null,
      "outputs": []
    },
    {
      "cell_type": "code",
      "source": [
        "# Set up the OpenAI API key\n",
        "openai.api_key = input(\"Enter the API: \") #Generate andd feed the API here\n",
        "\n",
        "# Input PDF file path\n",
        "pdf_file_path = input(\"Enter the path to the PDF file: \") #input the pdf location or name given where the command directory is loacated"
      ],
      "metadata": {
        "id": "fe5zfvkDQS6u"
      },
      "execution_count": null,
      "outputs": []
    },
    {
      "cell_type": "code",
      "source": [
        "# Create a PDF file object\n",
        "pdf_file = open(pdf_file_path, 'rb')\n",
        "\n",
        "# Create a PDF reader object\n",
        "pdf_reader = PyPDF2.PdfReader(pdf_file)\n",
        "\n",
        "# Extract text from each page of the PDF file\n",
        "pdf_text = \"\"\n",
        "for page_num in range(len(pdf_reader.pages)):\n",
        "    page = pdf_reader.pages[page_num]\n",
        "    pdf_text += page.extract_text()\n",
        "\n",
        "# Clean the PDF text\n",
        "pdf_text = pdf_text.lower()  # Convert text to lowercase\n",
        "pdf_text = re.sub(r'[^a-z\\s]', '', pdf_text)  # Remove non-alphabetic characters\n",
        "words = word_tokenize(pdf_text)  # Tokenize the text into words\n",
        "english_words = [word for word in words if detect(word) == \"en\"]  # Keep only English words\n",
        "pdf_text = \" \".join(english_words)  # Join the words back into a string\n",
        "\n",
        "# Close the PDF file object\n",
        "pdf_file.close()"
      ],
      "metadata": {
        "id": "5L-CIqeCR6wH"
      },
      "execution_count": null,
      "outputs": []
    },
    {
      "cell_type": "code",
      "source": [
        "#pdf_text"
      ],
      "metadata": {
        "id": "kutMfSr8YDmO"
      },
      "execution_count": null,
      "outputs": []
    },
    {
      "cell_type": "code",
      "source": [
        "# Set up the OpenAI prompt and model\n",
        "prompt = \"Ask a question related to the PDF file:\\n\\n\"\n",
        "model = \"text-davinci-003\"\n",
        "\n",
        "# Ask questions related to the text using ChatGPT\n",
        "while True:\n",
        "    question = input(prompt)\n",
        "    if question.lower() in [\"exit\", \"quit\"]:\n",
        "        break\n",
        "    context = pdf_text + \"\\nQuestion: \" + question\n",
        "    response = openai.Completion.create(\n",
        "        engine=model,\n",
        "        prompt=context,\n",
        "        temperature=0.5,\n",
        "        max_tokens=2049,\n",
        "        top_p=1,\n",
        "        frequency_penalty=0,\n",
        "        presence_penalty=0\n",
        "    )\n",
        "    answer = response.choices[0].text.strip()\n",
        "    print(\"Answer: \", answer)"
      ],
      "metadata": {
        "id": "WmJJWXPZTTjO"
      },
      "execution_count": null,
      "outputs": []
    },
    {
      "cell_type": "code",
      "source": [],
      "metadata": {
        "id": "7D7je_vLTo4r"
      },
      "execution_count": null,
      "outputs": []
    }
  ]
}